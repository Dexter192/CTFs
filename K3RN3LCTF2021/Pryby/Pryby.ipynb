{
 "cells": [
  {
   "cell_type": "markdown",
   "id": "928a12a0",
   "metadata": {},
   "source": [
    "This is not a writeup that I am happy with. I will keep it on my GitHub but not publish it on CTFtime.\n",
    "\n",
    "\n",
    "In the Challenge we are given a short python file with one function `f(n)` and one class `G`. "
   ]
  },
  {
   "cell_type": "markdown",
   "id": "ac5972a4",
   "metadata": {},
   "source": [
    "Function `f` is fairly simple as it just generates a list of primes from 1 until n=1,000,000."
   ]
  },
  {
   "cell_type": "code",
   "execution_count": 1,
   "id": "b50afaf8",
   "metadata": {},
   "outputs": [],
   "source": [
    "def f(n):\n",
    "    q=[True]*(n + 1)\n",
    "    r=2\n",
    "    while r**2<=n:\n",
    "        if q[r]:\n",
    "            for i in range(r**2,n+1,r):q[i] = False\n",
    "        r += 1\n",
    "    return [p for p in range(2,n+1) if q[p]]"
   ]
  },
  {
   "cell_type": "markdown",
   "id": "b4baef2b",
   "metadata": {},
   "source": [
    "When we create an instance of the class `G`, we initialise it with the list of primes as `self.f` and a state `self.state=1` which will be our encrypted flag.\n",
    "\n",
    "The class `G` also contains a function `move` which iterates over the list of primes until it finds a prime such that `self.state%p!=0`. "
   ]
  },
  {
   "cell_type": "code",
   "execution_count": 2,
   "id": "2cf5f09a",
   "metadata": {},
   "outputs": [],
   "source": [
    "class G:\n",
    "    def __init__(self, f):\n",
    "        self.f = f\n",
    "        self.state = 1\n",
    "    def move(self):\n",
    "        q=1\n",
    "        for p in self.f:\n",
    "            if self.state%p!=0:\n",
    "                self.state=self.state*p//q\n",
    "                return\n",
    "            q*=p"
   ]
  },
  {
   "cell_type": "markdown",
   "id": "57c06991",
   "metadata": {},
   "source": [
    "Using `G`, the flag is encrypted by converting the flag into a long $f$ and then calling `G.move` $f$ times. The resulting state is the encrypted flag.\n",
    "\n",
    "We are also given the encrypted flag in the file"
   ]
  },
  {
   "cell_type": "code",
   "execution_count": 3,
   "id": "b4cb53b7",
   "metadata": {},
   "outputs": [
    {
     "name": "stdout",
     "output_type": "stream",
     "text": [
      "enc = 27457552467146386\n"
     ]
    }
   ],
   "source": [
    "from Cryptodome.Util.number import bytes_to_long\n",
    "\n",
    "#flag = open('flag.txt','r').read().strip().encode()\n",
    "flag = 'fla'.encode()\n",
    "flag=bytes_to_long(flag)\n",
    "primes = f(pow(10,6))\n",
    "gen = G(primes)\n",
    "for _ in range(flag):gen.move()\n",
    "print('enc =',gen.state)\n",
    "# enc = 31101348141812078335833805605789286074261282187811930228543150731391596197753398457711668323158766354340973336627910072170464704090430596544129356812212375629361633100544710283538309695623654512578122336072914796577236081667423970014267246553110800667267853616970529812738203125516169205531952973978205310"
   ]
  },
  {
   "cell_type": "markdown",
   "id": "b7997d27",
   "metadata": {},
   "source": [
    "Note that the `move` function is independent of the states and the encrypted flag only depends on the number of times that `g.move()` is called. We can start to solve this challenge by investigating the first states. \n",
    "\n",
    "We can see that the state will start with a prime number $p$ (e.g. 5) which is followed by multiples of $p$. Eventually, the state will become the next larger prime. "
   ]
  },
  {
   "cell_type": "markdown",
   "id": "35bef98b",
   "metadata": {},
   "source": [
    "|State |Max primefactor|\n",
    "|--- |--- |\n",
    "|**2**|2|\n",
    "|**3**|3|\n",
    "|6|3|\n",
    "|**5**|5|\n",
    "|10|5|\n",
    "|15|5|\n",
    "|30|5|\n",
    "|**7**|7|\n",
    "|14|7|\n",
    "|21|7|\n",
    "|42|7|\n",
    "|35|7|\n",
    "|70|7|\n",
    "|105|7|\n",
    "|210|7|\n",
    "|**11**|11|\n",
    "|22|11|\n",
    "|33|11|\n",
    "|66|11|\n",
    "|55|11|\n",
    "|110|11|\n",
    "|165|11|\n",
    "|330|11|\n",
    "|77|11|\n",
    "|154|11|\n",
    "|231|11|\n",
    "|462|11|\n",
    "|385|11|\n",
    "|770|11|\n",
    "|1155|11|\n",
    "|2310|11|\n",
    "|**13**|13|"
   ]
  },
  {
   "cell_type": "markdown",
   "id": "d5434255",
   "metadata": {},
   "source": [
    "If we count the states for the primefactory, we find that we have $2^i$ states for the $i^{th}$ primefactor "
   ]
  },
  {
   "cell_type": "markdown",
   "id": "fac40997",
   "metadata": {},
   "source": [
    "|Index|Prime | Frequency |\n",
    "|--- |--- |--- |\n",
    "|0|2|1|\n",
    "|1|3|2|\n",
    "|2|5|4|\n",
    "|3|7|8|\n",
    "|4|11|16|\n",
    "|5|13|32|\n",
    "|6|13|64|\n",
    "|$\\vdots$|$\\vdots$|$\\vdots$|\n"
   ]
  },
  {
   "cell_type": "markdown",
   "id": "7301ee5f",
   "metadata": {},
   "source": [
    "This means that if our encrypted flag consists of the primefactors $2\\cdot7\\cdot11=154$ with respective indices (0,3,4). With the indices, we can calculate the original flag $2^0\\cdot2^3\\cdot2^4=25$\n",
    "\n",
    "We can validate this with the original script:\n"
   ]
  },
  {
   "cell_type": "code",
   "execution_count": 4,
   "id": "6ee88b9c",
   "metadata": {},
   "outputs": [
    {
     "name": "stdout",
     "output_type": "stream",
     "text": [
      "enc = 154\n"
     ]
    }
   ],
   "source": [
    "flag=25\n",
    "primes = f(pow(10,6))\n",
    "gen = G(primes)\n",
    "for _ in range(flag):gen.move()\n",
    "print('enc =',gen.state)"
   ]
  },
  {
   "cell_type": "markdown",
   "id": "88202f15",
   "metadata": {},
   "source": [
    "Finally, we can decrypt the encoded flag:"
   ]
  },
  {
   "cell_type": "code",
   "execution_count": 5,
   "id": "b1e5cdfd",
   "metadata": {},
   "outputs": [
    {
     "name": "stdout",
     "output_type": "stream",
     "text": [
      "dict_keys([2, 5, 7, 11, 13, 17, 23, 43, 59, 61, 67, 73, 79, 83, 103, 109, 113, 127, 139, 149, 163, 167, 179, 181, 191, 193, 197, 211, 227, 229, 233, 251, 257, 271, 277, 281, 293, 307, 313, 337, 349, 353, 367, 373, 383, 397, 401, 419, 421, 443, 449, 467, 487, 491, 541, 557, 563, 571, 577, 587, 593, 599, 607, 619, 631, 641, 647, 653, 691, 701, 727, 743, 757, 761, 797, 811, 821, 823, 829, 839, 863, 877, 887, 907, 911, 929, 937, 947, 967, 977, 983, 991, 1013, 1019, 1033, 1039, 1051, 1061, 1069, 1087, 1091, 1093, 1103, 1109, 1117, 1151, 1153, 1171, 1213, 1217, 1237, 1249, 1277, 1279, 1291, 1297, 1307, 1319])\n"
     ]
    }
   ],
   "source": [
    "from sympy.ntheory import factorint\n",
    "\n",
    "enc = 31101348141812078335833805605789286074261282187811930228543150731391596197753398457711668323158766354340973336627910072170464704090430596544129356812212375629361633100544710283538309695623654512578122336072914796577236081667423970014267246553110800667267853616970529812738203125516169205531952973978205310\n",
    "print(factorint(enc).keys())\n",
    "prime_factors = factorint(enc).keys()"
   ]
  },
  {
   "cell_type": "code",
   "execution_count": 6,
   "id": "606d85d6",
   "metadata": {},
   "outputs": [
    {
     "name": "stdout",
     "output_type": "stream",
     "text": [
      "[0, 2, 3, 4, 5, 6, 8, 13, 16, 17, 18, 20, 21, 22, 26, 28, 29, 30, 33, 34, 37, 38, 40, 41, 42, 43, 44, 46, 48, 49, 50, 53, 54, 57, 58, 59, 61, 62, 64, 67, 69, 70, 72, 73, 75, 77, 78, 80, 81, 85, 86, 90, 92, 93, 99, 101, 102, 104, 105, 106, 107, 108, 110, 113, 114, 115, 117, 118, 124, 125, 128, 131, 133, 134, 138, 140, 141, 142, 144, 145, 149, 150, 153, 154, 155, 157, 158, 160, 162, 164, 165, 166, 169, 170, 173, 174, 176, 177, 179, 180, 181, 182, 184, 185, 186, 189, 190, 192, 197, 198, 202, 203, 205, 206, 209, 210, 213, 214]\n"
     ]
    }
   ],
   "source": [
    "indices = [i for i, e in enumerate(primes) if e in prime_factors]\n",
    "print(indices)"
   ]
  },
  {
   "cell_type": "code",
   "execution_count": 7,
   "id": "d070a364",
   "metadata": {},
   "outputs": [
    {
     "name": "stdout",
     "output_type": "stream",
     "text": [
      "b'flag{functi0n_h4cking_ftw!}'\n"
     ]
    }
   ],
   "source": [
    "from Cryptodome.Util.number import long_to_bytes\n",
    "\n",
    "flag_long = sum(map(lambda x: 2**x, indices))\n",
    "dec_flag = long_to_bytes(flag_long)\n",
    "print(dec_flag)"
   ]
  }
 ],
 "metadata": {
  "kernelspec": {
   "display_name": "Python 3",
   "language": "python",
   "name": "python3"
  },
  "language_info": {
   "codemirror_mode": {
    "name": "ipython",
    "version": 3
   },
   "file_extension": ".py",
   "mimetype": "text/x-python",
   "name": "python",
   "nbconvert_exporter": "python",
   "pygments_lexer": "ipython3",
   "version": "3.8.8"
  }
 },
 "nbformat": 4,
 "nbformat_minor": 5
}
